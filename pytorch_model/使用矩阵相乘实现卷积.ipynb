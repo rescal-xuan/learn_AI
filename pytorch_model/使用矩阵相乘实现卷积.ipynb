{
 "cells": [
  {
   "cell_type": "code",
   "execution_count": 1,
   "metadata": {},
   "outputs": [],
   "source": [
    "import torch\n",
    "import math\n",
    "import torch.nn  as nn\n",
    "import torch.nn.functional as F"
   ]
  },
  {
   "cell_type": "code",
   "execution_count": 29,
   "metadata": {},
   "outputs": [],
   "source": [
    "input =torch.randn(5,5)\n",
    "kernel =torch.randn(3,3)   "
   ]
  },
  {
   "cell_type": "code",
   "execution_count": 30,
   "metadata": {},
   "outputs": [
    {
     "name": "stdout",
     "output_type": "stream",
     "text": [
      "tensor([[-2.0837, -1.1043,  3.2571],\n",
      "        [-1.1638,  0.7576,  3.2776],\n",
      "        [ 0.3669,  0.4015,  0.9808]])\n"
     ]
    }
   ],
   "source": [
    "def  matrix_muti_for_cov(x,kernel,stride=1,padding=0):\n",
    "    # kernel.shape ->(h,w)\n",
    "    output_h= int((x.shape[0]-kernel.shape[0])/stride) +1\n",
    "    output_w= int((x.shape[1]-kernel.shape[1])/stride) +1\n",
    "    output =torch.zeros(output_h,output_w)\n",
    "    \n",
    "    for i in range (0,x.shape[0]-kernel.shape[0]+1,stride):\n",
    "        \n",
    "        for j in range (0,x.shape[1]-kernel.shape[1]+1,stride):\n",
    "            \n",
    "            area = x[i:i+kernel.shape[0],j:j+kernel.shape[1]]\n",
    "            output[i,j] =torch.sum(area*kernel)\n",
    "    return  output\n",
    "\n",
    "\n",
    "output =matrix_muti_for_cov(input,kernel)\n",
    "print(output)"
   ]
  },
  {
   "cell_type": "code",
   "execution_count": 31,
   "metadata": {},
   "outputs": [
    {
     "data": {
      "text/plain": [
       "tensor([[-2.0837, -1.1043,  3.2571],\n",
       "        [-1.1638,  0.7576,  3.2776],\n",
       "        [ 0.3669,  0.4015,  0.9808]])"
      ]
     },
     "execution_count": 31,
     "metadata": {},
     "output_type": "execute_result"
    }
   ],
   "source": [
    "input =input.reshape((1,1,input.shape[0],input.shape[1]))\n",
    "kernel =kernel.reshape((1,1,kernel.shape[0],kernel.shape[1]))\n",
    "cov_out =F.conv2d(input,kernel)\n",
    "cov_out.squeeze(0).squeeze(0)"
   ]
  },
  {
   "cell_type": "code",
   "execution_count": 24,
   "metadata": {},
   "outputs": [
    {
     "name": "stdout",
     "output_type": "stream",
     "text": [
      "True\n"
     ]
    }
   ],
   "source": [
    "input =torch.randn(2,2,5,5)\n",
    "kernel=torch.randn(2,2,3,3)\n",
    "def  matrix_muti_for_cov2(input,kernel,bais =None,stride=1,padding=1):\n",
    "    \n",
    "    batch,channel,x_h,x_w =input.shape\n",
    "    channel_out,channel_in,kernel_h,kernel_w =kernel.shape\n",
    "    output_h= (math.floor((x_h+2*padding-kernel_h)/stride) +1)\n",
    "    output_w= (math.floor((x_w+2*padding-kernel_w)/stride) +1)\n",
    "    output =torch.zeros(batch,channel_out,output_h,output_w)\n",
    "    if padding>0 :\n",
    "        # input_padded = torch.zeros(batch, channel, x_h+2*padding, x_w+2*padding)\n",
    "        # input_padded[:,:,padding:x_h+padding,padding:x_w+padding] =input\n",
    "        input = torch.nn.functional.pad(input,[padding,padding,padding,padding],\"constant\", 0)\n",
    "    if bais  is None:\n",
    "        bais =torch.zeros(channel_out)\n",
    "    for  b in range(batch):\n",
    "        for c_out  in  range(channel_out):\n",
    "                for i in range (0,output_h,stride):\n",
    "                    for j in range (0,output_w,stride):\n",
    "                        for c_in in range(channel_in):\n",
    "                            area = input[b,c_in,i:i+kernel_h,j:j+kernel_w]\n",
    "                            output[b,c_out,i,j] +=torch.sum(area*kernel[c_out,c_in])\n",
    "                        output[b, c_out, i, j] += bais[c_out]            \n",
    "                          \n",
    "    return output\n",
    "        \n",
    "\n",
    "cov_out =matrix_muti_for_cov2(input,kernel)\n",
    "# print(cov_out)\n",
    "cov_out2 =F.conv2d(input,kernel,padding=1)\n",
    "# print(cov_out2)\n",
    "# if torch.allclose(cov_out, cov_out2, rtol=1e-05, atol=1e-08):\n",
    "#     print(\"两个卷积结果近似相等。\") \n",
    "# else:\n",
    "#     print(\"两个卷积结果不相等。\")  \n",
    "#     print(\"最大绝对误差:\", torch.max(torch.abs(cov_out - cov_out2))) \n",
    "\n",
    "flag = torch.allclose(cov_out,cov_out2)\n",
    "print(flag)"
   ]
  },
  {
   "cell_type": "code",
   "execution_count": 66,
   "metadata": {},
   "outputs": [],
   "source": [
    "input =torch.randn(5,5)\n",
    "kernel =torch.randn(3,3) \n",
    "def  matrix_muti_for_cov(x,kernel,stride=1,padding=0):\n",
    "    # kernel.shape ->(h,w)\n",
    "    output_h= int((x.shape[0]-kernel.shape[0])/stride) +1\n",
    "    output_w= int((x.shape[1]-kernel.shape[1])/stride) +1\n",
    "    output =torch.zeros(output_h,output_w)\n",
    "    area_matrix = torch.zeros(output.numel(),kernel.numel())\n",
    "    kernel_matrix =kernel.reshape(kernel.numel(),-1)\n",
    "    for i in range (0,x.shape[0]-kernel.shape[0]+1,stride):\n",
    "        for j in range (0,x.shape[1]-kernel.shape[1]+1,stride):\n",
    "            \n",
    "            area = x[i:i+kernel.shape[0],j:j+kernel.shape[1]]\n",
    "            area_matrix[i+j] = torch.flatten(area)\n",
    "    output_matrix =area_matrix@ kernel_matrix\n",
    "    output = output_matrix.reshape(output_h, output_w)\n",
    "    return  output"
   ]
  }
 ],
 "metadata": {
  "kernelspec": {
   "display_name": "torch",
   "language": "python",
   "name": "python3"
  },
  "language_info": {
   "codemirror_mode": {
    "name": "ipython",
    "version": 3
   },
   "file_extension": ".py",
   "mimetype": "text/x-python",
   "name": "python",
   "nbconvert_exporter": "python",
   "pygments_lexer": "ipython3",
   "version": "3.8.17"
  }
 },
 "nbformat": 4,
 "nbformat_minor": 2
}
