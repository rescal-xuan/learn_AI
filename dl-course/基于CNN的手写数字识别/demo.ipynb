{
 "cells": [
  {
   "cell_type": "code",
   "execution_count": 1,
   "metadata": {},
   "outputs": [],
   "source": [
    "import torch \n",
    "import torch.nn as nn\n",
    "from  torchvision import  transforms,datasets\n",
    "from torch.utils.data  import Dataset,DataLoader,random_split\n",
    "from tqdm import tqdm"
   ]
  },
  {
   "cell_type": "code",
   "execution_count": 2,
   "metadata": {},
   "outputs": [],
   "source": [
    "transform = transforms.Compose([\n",
    "    transforms.ToTensor(), \n",
    "    transforms.Normalize((0.5,), (0.5,))\n",
    "    ]) "
   ]
  },
  {
   "cell_type": "code",
   "execution_count": 3,
   "metadata": {},
   "outputs": [],
   "source": [
    "dataset = datasets.MNIST(root='./data/MNIST',train=True,transform=transform,download=True)"
   ]
  },
  {
   "cell_type": "code",
   "execution_count": 4,
   "metadata": {},
   "outputs": [],
   "source": [
    "train_size =int(len(dataset)*0.7)\n",
    "test_size =int(len(dataset)-train_size)\n",
    "train_dataset,test_dataset=random_split(dataset,[train_size,test_size])\n",
    "train_dataloader=DataLoader(train_dataset,batch_size=32,shuffle=True)\n",
    "test_dataloader=DataLoader(test_dataset,batch_size=32,shuffle=False)"
   ]
  },
  {
   "cell_type": "code",
   "execution_count": 5,
   "metadata": {},
   "outputs": [],
   "source": [
    "class simpleCNN(nn.Module):\n",
    "    def __init__(self,class_num):\n",
    "        super().__init__()\n",
    "        self.conv1 = nn.Conv2d(1, 32, kernel_size=3, stride=1, padding=1)  # 输入通道1，输出通道32，3x3卷积核，步长1，padding 1\n",
    "        self.relu1 = nn.ReLU()\n",
    "        self.pool1 = nn.MaxPool2d(kernel_size=2, stride=2)  # 2x2 最大池化\n",
    "\n",
    "        self.conv2 = nn.Conv2d(32, 64, kernel_size=3, stride=1, padding=1) # 输入通道32，输出通道64\n",
    "        self.relu2 = nn.ReLU()\n",
    "        self.pool2 = nn.MaxPool2d(kernel_size=2, stride=2)\n",
    "\n",
    "        self.fc1 = nn.Linear(64 * 7 * 7, 128)  # 全连接层，输入 64*7*7，输出 128\n",
    "        self.relu3 = nn.ReLU()\n",
    "        self.fc2 = nn.Linear(128, class_num)  # 全连接层，输入 128，输出 10 (类别数)\n",
    "\n",
    "    def forward(self, x):\n",
    "        out = self.conv1(x)\n",
    "        out = self.relu1(out)\n",
    "        out = self.pool1(out)\n",
    "\n",
    "        out = self.conv2(out)\n",
    "        out = self.relu2(out)\n",
    "        out = self.pool2(out)\n",
    "\n",
    "        out = out.view(out.size(0), -1)  # 展平操作\n",
    "        out = self.fc1(out)\n",
    "        out = self.relu3(out)\n",
    "        out = self.fc2(out)\n",
    "        return out"
   ]
  },
  {
   "cell_type": "code",
   "execution_count": 6,
   "metadata": {},
   "outputs": [],
   "source": [
    "model =simpleCNN(10)\n",
    "loss_func = nn.CrossEntropyLoss()\n",
    "optimizer =torch.optim.Adam(model.parameters(),lr =1e-4)"
   ]
  },
  {
   "cell_type": "code",
   "execution_count": 7,
   "metadata": {},
   "outputs": [],
   "source": [
    "def train(epochs):\n",
    "    model.train()\n",
    "    for epoch in range(epochs):\n",
    "        for idx,(img,label)  in tqdm(enumerate(train_dataloader),total=len(train_dataloader),desc=f\"Epoch {epoch+1}/{epochs}\"):\n",
    "            \n",
    "            out=model(img)\n",
    "            loss=loss_func(out,label)\n",
    "            optimizer.zero_grad()\n",
    "            loss.backward()\n",
    "            optimizer.step()\n",
    "            loss+=loss.item()\n",
    "        print(f\"\")\n",
    "        with torch.no_grad():\n",
    "            model.eval()\n",
    "            correct=0 \n",
    "            total=0\n",
    "            total += label.size(0)\n",
    "            for idx,(img,label)  in tqdm(enumerate(test_dataloader),total=len(test_dataloader),desc=f\"Testing\"):\n",
    "                out =model(img)\n",
    "                _,pred =torch.max(out,1)\n",
    "                total += label.size(0)\n",
    "                correct += (pred == label).sum().item()\n",
    "                val_acc = 100 * correct / total\n",
    "        print(f\"{epoch+1}/{epochs}: loss: {loss.item()}  acc:{val_acc:.2f}\")\n",
    "        "
   ]
  },
  {
   "cell_type": "code",
   "execution_count": null,
   "metadata": {},
   "outputs": [
    {
     "data": {
      "image/png": "[encoded data removed]",
      "text/plain": [
       "<Figure size 1000x500 with 10 Axes>"
      ]
     },
     "metadata": {},
     "output_type": "display_data"
    }
   ],
   "source": [
    "\n",
    "import matplotlib.pyplot  as plot\n",
    "import numpy as np\n",
    "num_rows = 2\n",
    "num_cols = 5\n",
    "fig, axes = plot.subplots(num_rows, num_cols, figsize=(10, 5)) \n",
    "with torch.no_grad(): \n",
    "    model.eval()  \n",
    "    for i, (images, labels) in enumerate(test_dataloader):\n",
    "        if i >10:\n",
    "            break\n",
    "        outputs = model(images)\n",
    "        _, predicted = torch.max(outputs, 1)\n",
    "        for i in range(min(10, len(images))):\n",
    "            ax = axes[i // num_cols, i % num_cols]\n",
    "\n",
    "            img = np.transpose(images[i], (1, 2, 0))\n",
    "            ax.imshow(img, cmap='gray')  \n",
    "            ax.set_title(f\"label:{labels[i]}\\nPred:{predicted[i]}\")\n",
    "            ax.axis('off')  \n",
    "plot.tight_layout() \n",
    "plot.show()  "
   ]
  }
 ],
 "metadata": {
  "kernelspec": {
   "display_name": "torch",
   "language": "python",
   "name": "python3"
  },
  "language_info": {
   "codemirror_mode": {
    "name": "ipython",
    "version": 3
   },
   "file_extension": ".py",
   "mimetype": "text/x-python",
   "name": "python",
   "nbconvert_exporter": "python",
   "pygments_lexer": "ipython3",
   "version": "3.8.17"
  }
 },
 "nbformat": 4,
 "nbformat_minor": 2
}
